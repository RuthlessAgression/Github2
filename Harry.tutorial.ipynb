{
 "cells": [
  {
   "cell_type": "code",
   "execution_count": 4,
   "id": "8cf32085",
   "metadata": {},
   "outputs": [
    {
     "name": "stdout",
     "output_type": "stream",
     "text": [
      "AR10\n"
     ]
    }
   ],
   "source": [
    "x = input()"
   ]
  },
  {
   "cell_type": "code",
   "execution_count": 5,
   "id": "b44108b1",
   "metadata": {},
   "outputs": [
    {
     "name": "stdout",
     "output_type": "stream",
     "text": [
      "60\n",
      "passed\n"
     ]
    }
   ],
   "source": [
    "b = int(input())\n",
    "if b>40 or b<100:\n",
    "    print('passed')\n",
    "else:\n",
    "    print('failed')"
   ]
  },
  {
   "cell_type": "code",
   "execution_count": 35,
   "id": "bd9fa434",
   "metadata": {},
   "outputs": [
    {
     "name": "stdout",
     "output_type": "stream",
     "text": [
      "[10, 2, 3, 5, 10]\n",
      "[10, 2, 5, 10]\n",
      "[10, 2, 5, 10, 9]\n"
     ]
    }
   ],
   "source": [
    "#converting tuple int0 list to change specific value\n",
    "x = [10,2,3,5,10]\n",
    "print(list(x))\n",
    "#deleting specific value\n",
    "del x[2]\n",
    "print(x)\n",
    "x.append(9)\n",
    "print(x)"
   ]
  },
  {
   "cell_type": "code",
   "execution_count": 40,
   "id": "d30a00df",
   "metadata": {},
   "outputs": [
    {
     "name": "stdout",
     "output_type": "stream",
     "text": [
      "this is AR10 and his AN is AR \n"
     ]
    }
   ],
   "source": [
    "x = 'AR ' #space matters\n",
    "y = 'AR10'\n",
    "# here, we induced new var as temp to use function f' as concatenation 2.o\n",
    "temp = f'this is {y} and his AN is {x}'\n",
    "print(temp)"
   ]
  },
  {
   "cell_type": "code",
   "execution_count": 50,
   "id": "c780dd64",
   "metadata": {},
   "outputs": [
    {
     "name": "stdout",
     "output_type": "stream",
     "text": [
      "arAR\n"
     ]
    }
   ],
   "source": [
    "#using .upper,lower,replace to given variable\n",
    "name = 'ar10'\n",
    "var = name.replace('10','AR',)\n",
    "print(var)"
   ]
  },
  {
   "cell_type": "code",
   "execution_count": 52,
   "id": "371d2026",
   "metadata": {},
   "outputs": [],
   "source": [
    "#using for loop if condition along with break\n",
    "for i in range(1, 101):\n",
    "    while i>102:\n",
    "        break\n",
    "    #print(i) [made cmnt coz m too lazy to scroll downn until i gets to 1oo]"
   ]
  },
  {
   "cell_type": "code",
   "execution_count": 1,
   "id": "c1c30b7d",
   "metadata": {},
   "outputs": [
    {
     "name": "stdout",
     "output_type": "stream",
     "text": [
      "ar10\n",
      "ar10\n",
      "ar10\n",
      "ar10\n",
      "ar10\n"
     ]
    }
   ],
   "source": [
    "#confusion:loop\n",
    "i = 0\n",
    "while i<5:\n",
    "    print('ar10')\n",
    "    i += 1\n",
    "#yet again couldn't get it, terrible"
   ]
  },
  {
   "cell_type": "code",
   "execution_count": 72,
   "id": "c4d14656",
   "metadata": {},
   "outputs": [
    {
     "name": "stdout",
     "output_type": "stream",
     "text": [
      "-2\n",
      "11\n",
      "42\n",
      "2.0\n"
     ]
    }
   ],
   "source": [
    "#adding,reducing,multiplying,dividing using def function\n",
    "def add(x,y):\n",
    "    return x + y\n",
    "def sub(x,y):\n",
    "    return x - y\n",
    "def mul(x,y):\n",
    "    return x * y\n",
    "def div(x,y):\n",
    "    return x / y\n",
    "sum = add(5,6)\n",
    "sub = sub(5,7)\n",
    "mul = mul(6,7)\n",
    "div = div(4,2)\n",
    "print(sub)\n",
    "print(sum)\n",
    "print(mul)\n",
    "print(div)"
   ]
  },
  {
   "cell_type": "code",
   "execution_count": null,
   "id": "380875d9",
   "metadata": {},
   "outputs": [],
   "source": []
  }
 ],
 "metadata": {
  "kernelspec": {
   "display_name": "Python 3",
   "language": "python",
   "name": "python3"
  },
  "language_info": {
   "codemirror_mode": {
    "name": "ipython",
    "version": 3
   },
   "file_extension": ".py",
   "mimetype": "text/x-python",
   "name": "python",
   "nbconvert_exporter": "python",
   "pygments_lexer": "ipython3",
   "version": "3.8.8"
  }
 },
 "nbformat": 4,
 "nbformat_minor": 5
}
