{
 "cells": [
  {
   "cell_type": "code",
   "execution_count": 1,
   "id": "a79d5f9f",
   "metadata": {},
   "outputs": [
    {
     "name": "stdout",
     "output_type": "stream",
     "text": [
      "llo\n",
      "11\n",
      "hello eorld\n"
     ]
    }
   ],
   "source": [
    "a = 'hello world'\n",
    "print(a[2:5]) #spliting variables\n",
    "print(len(a)) #checking length of variables\n",
    "print(a.replace('w','e')) #replacing specific variables"
   ]
  },
  {
   "cell_type": "code",
   "execution_count": 97,
   "id": "662a6f74",
   "metadata": {},
   "outputs": [
    {
     "name": "stdout",
     "output_type": "stream",
     "text": [
      "2.3333333333333335\n",
      "2\n"
     ]
    }
   ],
   "source": [
    "a = 3\n",
    "b = 7\n",
    "print(b/a) #absolute value\n",
    "print(b//a) #floor division"
   ]
  },
  {
   "cell_type": "code",
   "execution_count": 98,
   "id": "c9c830d3",
   "metadata": {},
   "outputs": [
    {
     "name": "stdout",
     "output_type": "stream",
     "text": [
      "{'shyam', 'ram'}\n",
      "set()\n"
     ]
    }
   ],
   "source": [
    "a = {'ram','hari','shyam'} #introduced set'a'\n",
    "a.remove('hari') #to remove or discard specific item from set\n",
    "print(a)\n",
    "a.clear() #to delete all items in given set\n",
    "print(a)\n",
    "del a\n",
    "#print(a) #it eliminates the existence of set itself and as a result it shows error"
   ]
  },
  {
   "cell_type": "code",
   "execution_count": 101,
   "id": "d7e1d372",
   "metadata": {},
   "outputs": [
    {
     "name": "stdout",
     "output_type": "stream",
     "text": [
      "{'ram': 'boy1', 'hari': 'boyii', 'shyam': 'boyiii'}\n"
     ]
    }
   ],
   "source": [
    "thisdict = {\n",
    "    'ram': 'boy1',\n",
    "    'hari': 'boyii',\n",
    "    'shyam': 'boyiii',\n",
    "}\n",
    "print(thisdict)"
   ]
  },
  {
   "cell_type": "code",
   "execution_count": 102,
   "id": "65014e53",
   "metadata": {},
   "outputs": [
    {
     "name": "stdout",
     "output_type": "stream",
     "text": [
      "boy1\n",
      "boyii\n"
     ]
    }
   ],
   "source": [
    "a = thisdict['ram'] #gives the value of assigned key\n",
    "print(a)\n",
    "\n",
    "b = thisdict.get(\"hari\") #same as above, diff is we use .get with paranthesis\n",
    "print(b)"
   ]
  },
  {
   "cell_type": "code",
   "execution_count": 24,
   "id": "c92b6d6b",
   "metadata": {},
   "outputs": [
    {
     "name": "stdout",
     "output_type": "stream",
     "text": [
      "{'ram': 'boy1', 'hari': 'boyii', 'shyam': 'lost'}\n"
     ]
    }
   ],
   "source": [
    "thisdict['shyam'] = 'lost' #changed the key values\n",
    "print(thisdict)"
   ]
  },
  {
   "cell_type": "code",
   "execution_count": 103,
   "id": "03448095",
   "metadata": {},
   "outputs": [
    {
     "name": "stdout",
     "output_type": "stream",
     "text": [
      "ram\n",
      "hari\n",
      "shyam\n",
      "boy1\n",
      "boyii\n",
      "boyiii\n",
      "ram boy1\n",
      "hari boyii\n",
      "shyam boyiii\n",
      "3\n"
     ]
    }
   ],
   "source": [
    "for x in thisdict: #using for loop in dictionary to get keys excluding values\n",
    "    print(x)\n",
    "\n",
    "for y in thisdict.values(): #using .values() to get values excluding keys\n",
    "    print(y)\n",
    "\n",
    "for x,y in thisdict.items(): #using x,y and .items to get keys and values together\n",
    "    print(x,y)\n",
    "print(len(thisdict)) #using (len(thisdict)) to get thisdict's length"
   ]
  },
  {
   "cell_type": "code",
   "execution_count": 45,
   "id": "0a9e9d94",
   "metadata": {},
   "outputs": [
    {
     "name": "stdout",
     "output_type": "stream",
     "text": [
      "{'ram': 'boy1', 'hari': 'boyii', 'shyam': 'boyiii', 'krishna': 'new'}\n",
      "{'ram': 'boy1', 'hari': 'boyii', 'shyam': 'boyiii'}\n",
      "{'ram': 'boy1', 'hari': 'boyii'}\n"
     ]
    }
   ],
   "source": [
    "thisdict['krishna'] = 'new' #assigning new keys with value in dictionary\n",
    "print(thisdict)\n",
    "thisdict.pop('krishna') #to delete key'krishna' along with its value\n",
    "print(thisdict)\n",
    "del thisdict['shyam'] #delete specific key and value\n",
    "print(thisdict)\n",
    "# del thisdict #it deletes the whole dictionary as a result we get an error\n",
    "#print(thisdict) #commented just to get dict in existence"
   ]
  },
  {
   "cell_type": "code",
   "execution_count": 24,
   "id": "e9e4fc05",
   "metadata": {},
   "outputs": [
    {
     "name": "stdout",
     "output_type": "stream",
     "text": [
      "{'name': 'LM', 'job': 'record breaker', 'SN': 10}\n",
      "LM\n",
      "record breaker\n",
      "{'name': 'LM', 'job': 'record breaker', 'SN': 'TEN'}\n",
      "name LM\n",
      "job record breaker\n",
      "SN TEN\n"
     ]
    }
   ],
   "source": [
    "thisdict = dict(name='LM',job='record breaker',SN=10) #here, we introduced function dict to avoid any identation as previously\n",
    "print(thisdict)\n",
    "a = thisdict['name'] #declared var'a' to get value'LM' of key'name'\n",
    "print(a)            #OR\n",
    "b = thisdict.get('job') #used thisdict.get for own ease\n",
    "print(b)\n",
    "thisdict['SN'] = 'TEN' #changed the value of key'SN' from 10 to str'TEN'\n",
    "print(thisdict)\n",
    "for x,y in thisdict.items():\n",
    "    print(x,y)"
   ]
  },
  {
   "cell_type": "code",
   "execution_count": 46,
   "id": "af5634fd",
   "metadata": {},
   "outputs": [
    {
     "name": "stdout",
     "output_type": "stream",
     "text": [
      "{'ram': 'boy1', 'hari': 'boyii', 'shyam': 'boyiii'}\n"
     ]
    }
   ],
   "source": [
    "thisdict = {\n",
    "    'ram': 'boy1',\n",
    "    'hari': 'boyii',\n",
    "    'shyam': 'boyiii',\n",
    "}\n",
    "print(thisdict)"
   ]
  },
  {
   "cell_type": "code",
   "execution_count": 47,
   "id": "7dd63cc7",
   "metadata": {},
   "outputs": [
    {
     "name": "stdout",
     "output_type": "stream",
     "text": [
      "{}\n"
     ]
    }
   ],
   "source": [
    "thisdict.clear() #used to delete all keys and values as a result we get empty set\n",
    "print(thisdict)"
   ]
  },
  {
   "cell_type": "code",
   "execution_count": 53,
   "id": "25f6c9a8",
   "metadata": {},
   "outputs": [
    {
     "name": "stdout",
     "output_type": "stream",
     "text": [
      "whatt\n"
     ]
    }
   ],
   "source": [
    "print('lol') if a > b else print('ok') if a == b else print('whatt') #couldn't get it though XD"
   ]
  },
  {
   "cell_type": "code",
   "execution_count": 2,
   "id": "ee98199c",
   "metadata": {},
   "outputs": [
    {
     "name": "stdout",
     "output_type": "stream",
     "text": [
      "lost\n"
     ]
    }
   ],
   "source": [
    "a,b,c = 1,2,3\n",
    "if a>b and c>a:\n",
    "    print('done')\n",
    "else:\n",
    "    print('lost')"
   ]
  },
  {
   "cell_type": "code",
   "execution_count": 55,
   "id": "45a25ac6",
   "metadata": {},
   "outputs": [
    {
     "name": "stdout",
     "output_type": "stream",
     "text": [
      "0\n",
      "1\n",
      "2\n",
      "3\n",
      "4\n",
      "5\n",
      "you are done now\n"
     ]
    }
   ],
   "source": [
    "for x in range(6):\n",
    "    print(x)\n",
    "else: # gives message after completion of loop\n",
    "    print('you are done now')"
   ]
  },
  {
   "cell_type": "code",
   "execution_count": 57,
   "id": "bbf1a2c6",
   "metadata": {},
   "outputs": [
    {
     "name": "stdout",
     "output_type": "stream",
     "text": [
      "mh better\n",
      "mh good\n",
      "mh best\n",
      "mh quitegood\n",
      "pb better\n",
      "pb good\n",
      "pb best\n",
      "pb quitegood\n",
      "dark better\n",
      "dark good\n",
      "dark best\n",
      "dark quitegood\n",
      "lupin better\n",
      "lupin good\n",
      "lupin best\n",
      "lupin quitegood\n"
     ]
    }
   ],
   "source": [
    "series = ['mh','pb','dark','lupin']\n",
    "category = ['better','good','best','quitegood']\n",
    "for x in series:\n",
    "    for y in category:\n",
    "        print(x,y) #it multiplies each item in category to series 1by1"
   ]
  },
  {
   "cell_type": "code",
   "execution_count": 6,
   "id": "0cf5e8ce",
   "metadata": {},
   "outputs": [
    {
     "name": "stdout",
     "output_type": "stream",
     "text": [
      "0\n",
      "1\n",
      "2\n",
      "3\n",
      "4\n",
      "5\n"
     ]
    }
   ],
   "source": [
    "x = 0\n",
    "while x<6:\n",
    "    print(x)\n",
    "    x = x + 1"
   ]
  },
  {
   "cell_type": "code",
   "execution_count": 106,
   "id": "8ae0a9ed",
   "metadata": {},
   "outputs": [
    {
     "name": "stdout",
     "output_type": "stream",
     "text": [
      "2\n",
      "4\n",
      "6\n"
     ]
    }
   ],
   "source": [
    "for x in range(2,12,2): #gives even no. from 2 to 10\n",
    "    print(x)\n",
    "    if x == 6: #it breaks the loop when it reaches to particular value '6' without continuing to '8'\n",
    "        break"
   ]
  },
  {
   "cell_type": "code",
   "execution_count": 20,
   "id": "7ff5b0a9",
   "metadata": {},
   "outputs": [
    {
     "name": "stdout",
     "output_type": "stream",
     "text": [
      "-2\n",
      "11\n",
      "42\n",
      "2.0\n"
     ]
    }
   ],
   "source": [
    "#adding,reducing,multiplying,dividing using def function\n",
    "def add(x,y):\n",
    "    return x + y\n",
    "def sub(x,y):\n",
    "    return x - y\n",
    "def mul(x,y):\n",
    "    return x * y\n",
    "def div(x,y):\n",
    "    return x / y\n",
    "sum = add(5,6)\n",
    "sub = sub(5,7)\n",
    "mul = mul(6,7)\n",
    "div = div(4,2)\n",
    "print(sub)\n",
    "print(sum)\n",
    "print(mul)\n",
    "print(div)"
   ]
  },
  {
   "cell_type": "code",
   "execution_count": 24,
   "id": "3e2cd968",
   "metadata": {},
   "outputs": [
    {
     "name": "stdout",
     "output_type": "stream",
     "text": [
      "[4, 3, 2, 7.9]\n"
     ]
    }
   ],
   "source": [
    "a = [2,3,4,7.9]\n",
    "temp = a[0] #here, we declared variable 'temp' which equals to index value[2] of variable 'a'\n",
    "a[0] = a[2] #then, we declared that index value of a[0] equals to index value of a[2]\n",
    "a[2] = temp #again, we referred index value of a[2] equals to pre-assigned varaible called \"temp\"\n",
    "print(a)"
   ]
  },
  {
   "cell_type": "code",
   "execution_count": 25,
   "id": "c89366f9",
   "metadata": {},
   "outputs": [
    {
     "name": "stdout",
     "output_type": "stream",
     "text": [
      "[7.9, 3, 4, 7.9]\n"
     ]
    }
   ],
   "source": [
    "a[0],a[2] = a[3],a[0] #just like in previous cell, we reffered index value to each other\n",
    "print(a)"
   ]
  },
  {
   "cell_type": "code",
   "execution_count": 108,
   "id": "f3786ce7",
   "metadata": {},
   "outputs": [
    {
     "name": "stdout",
     "output_type": "stream",
     "text": [
      "LM10\n"
     ]
    }
   ],
   "source": [
    "def x(a,b): #here, first we defined a function x(a,b)\n",
    "    return a + b #then, we assigned to return its value by simply adding a and b\n",
    "\n",
    "y = x('LM','10') #here, we created new var called y which contains function x(a,b) along with its str values x('LM','10')\n",
    "print(y) #then, we concatenated the strs by simply printing pre-declared var called y\n",
    "\n",
    "# Note: you can give any name to function x and var.y"
   ]
  },
  {
   "cell_type": "code",
   "execution_count": 48,
   "id": "e5afac66",
   "metadata": {},
   "outputs": [
    {
     "name": "stdout",
     "output_type": "stream",
     "text": [
      "Hi AR10. Are you gonna be 18 soon ?"
     ]
    }
   ],
   "source": [
    "print('Hi ', end = '')\n",
    "print('AR', end = '10' + '. ')\n",
    "\n",
    "print('Are you gonna be ', end = '18 soon ?') #used end method to append str at last on same line"
   ]
  },
  {
   "cell_type": "code",
   "execution_count": 43,
   "id": "02e81dee",
   "metadata": {},
   "outputs": [
    {
     "name": "stdout",
     "output_type": "stream",
     "text": [
      "2\n"
     ]
    }
   ],
   "source": [
    "a = 'LM10'\n",
    "print(a.index('1')) #it gives the index value of str'1'"
   ]
  },
  {
   "cell_type": "code",
   "execution_count": 96,
   "id": "19933257",
   "metadata": {},
   "outputs": [
    {
     "name": "stdout",
     "output_type": "stream",
     "text": [
      "{1, 2, 3, 4}\n"
     ]
    }
   ],
   "source": [
    "x = [1,2,3,1,4,2] #introduced x as tuple with particular values\n",
    "y = set() #declared y as empty set()\n",
    "for i in x: #used for loop to induce items from tuple x\n",
    "    y.add(i) #added items in x to fulfill empty set with ofc. unique value\n",
    "print(y) #printed y to get set and value"
   ]
  },
  {
   "cell_type": "code",
   "execution_count": 68,
   "id": "32078cf9",
   "metadata": {},
   "outputs": [
    {
     "name": "stdout",
     "output_type": "stream",
     "text": [
      "[36, 25, 16, 9, 4, 1]\n",
      "[36, 25, 16, 9, 4, 1]\n"
     ]
    }
   ],
   "source": [
    "f1 = [] #created empty var'f1' \n",
    "for x in range(6,0,-1): #used for loop to induce value from 6 to 0 with difference of (-1) as it is in reverse form\n",
    "    f1.add(x**2) # added empty var 'f1' with items in given range to get squared no.s as of **\n",
    "print(f1) #printed var'f1' to get squared value from range through for loop\n",
    "# or,\n",
    "f2 = [x**2 for x in range(6,0,-1)] #introduced var f2 which contains squared value from range 6 to o with difference of (-1)\n",
    "print(f2)\n",
    "#note: you dont need to write diff(-1) if it was unreversed or like range(0,6,1)"
   ]
  },
  {
   "cell_type": "code",
   "execution_count": 80,
   "id": "9e4a7879",
   "metadata": {},
   "outputs": [
    {
     "name": "stdout",
     "output_type": "stream",
     "text": [
      "hello AR10 how are you?\n"
     ]
    }
   ],
   "source": [
    "def x(name): #defined x as function consisting item as x(name)\n",
    "    print(f'hello {name} how are you?') #used f to print all data including {name} to avoid further mess\n",
    "x('AR10') #assigned name as x('AR10')"
   ]
  },
  {
   "cell_type": "code",
   "execution_count": 34,
   "id": "06c306cd",
   "metadata": {},
   "outputs": [],
   "source": [
    "i = 0\n",
    "while(i<100):\n",
    "    i = i + 1           #fcknnnnnnn messssssssssssssssssssssssssssssssssssssssssssss\n",
    "    if i == 70:\n",
    "        continue\n",
    "    #print(i) #it excludes 70 when i equals to 70 and continues to 100\n",
    "  # note: commented the print method to avoid long scroll"
   ]
  },
  {
   "cell_type": "code",
   "execution_count": 63,
   "id": "53f6dda9",
   "metadata": {},
   "outputs": [],
   "source": [
    "i = 0\n",
    "for i in range(2,18,2):\n",
    "    if i == 12:\n",
    "        break #we break the loop when i reaches to 12\n",
    "    #print(i) #commented to avoid scroll as earlier, XD\n",
    "\n",
    "i = 0\n",
    "for i in range(2,18,2):\n",
    "    if i == 12:\n",
    "        continue # (when i reached to 12 we continue the loop excluding 12)\n",
    "    #print(i) #same shit implies here, XD"
   ]
  },
  {
   "cell_type": "code",
   "execution_count": 20,
   "id": "84f732d4",
   "metadata": {},
   "outputs": [
    {
     "name": "stdout",
     "output_type": "stream",
     "text": [
      "[1, 2, 4, 2, 6, 40]\n",
      "[1, 2, 4, 2, 6, 40, 11]\n"
     ]
    }
   ],
   "source": [
    "a = [1,2,4,2,6,40]\n",
    "print(a)\n",
    "a.insert(9,11)\n",
    "print(a)"
   ]
  },
  {
   "cell_type": "code",
   "execution_count": null,
   "id": "7e3e6b71",
   "metadata": {},
   "outputs": [],
   "source": []
  }
 ],
 "metadata": {
  "kernelspec": {
   "display_name": "Python 3",
   "language": "python",
   "name": "python3"
  },
  "language_info": {
   "codemirror_mode": {
    "name": "ipython",
    "version": 3
   },
   "file_extension": ".py",
   "mimetype": "text/x-python",
   "name": "python",
   "nbconvert_exporter": "python",
   "pygments_lexer": "ipython3",
   "version": "3.8.8"
  }
 },
 "nbformat": 4,
 "nbformat_minor": 5
}
