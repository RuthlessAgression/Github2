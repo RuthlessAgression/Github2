{
 "cells": [
  {
   "cell_type": "code",
   "execution_count": 53,
   "source": [
    "print('sic mundus\\ncreatust') \r\n",
    "print('sic mundus\\tcreatust')\r\n",
    "#\\n is used to skip line after printing any variable\r\n",
    "#\\t is used to maintain space between strs"
   ],
   "outputs": [
    {
     "output_type": "stream",
     "name": "stdout",
     "text": [
      "sic mundus\n",
      "creatust\n",
      "sic mundus\tcreatust\n"
     ]
    }
   ],
   "metadata": {}
  },
  {
   "cell_type": "code",
   "execution_count": 59,
   "source": [
    "a = [2,'bishnu',4,'shyam',9,'hari',10]\r\n",
    "print(a[1:4]) #gives values from index value 1 to 4 excluding value on index value 4\r\n",
    "print(a[2:])  #gives values after ward index value 2 to last value\r\n",
    "print(a[-4:-1])  #gives value from index value -4 to -1 excluding value of index value -1"
   ],
   "outputs": [
    {
     "output_type": "stream",
     "name": "stdout",
     "text": [
      "['bishnu', 4, 'shyam']\n",
      "[4, 'shyam', 9, 'hari', 10]\n",
      "['shyam', 9, 'hari']\n"
     ]
    }
   ],
   "metadata": {}
  },
  {
   "cell_type": "code",
   "execution_count": 43,
   "source": [
    "b = '''hi there!\r\n",
    "how you doing\r\n",
    "huh?'''\r\n",
    "print(b) #used '''.....''' for multiline string"
   ],
   "outputs": [
    {
     "output_type": "stream",
     "name": "stdout",
     "text": [
      "hi there!\n",
      "how you doing\n",
      "huh?\n"
     ]
    }
   ],
   "metadata": {}
  },
  {
   "cell_type": "code",
   "execution_count": 74,
   "source": [
    "a = ['bishnu','shyam','harish','ten']\r\n",
    "b = []\r\n",
    "for x in a:\r\n",
    "    if 's' in x:\r\n",
    "        b.append(x)\r\n",
    "    print(b)"
   ],
   "outputs": [
    {
     "output_type": "stream",
     "name": "stdout",
     "text": [
      "['bishnu']\n",
      "['bishnu', 'shyam']\n",
      "['bishnu', 'shyam', 'harish']\n",
      "['bishnu', 'shyam', 'harish']\n"
     ]
    }
   ],
   "metadata": {}
  },
  {
   "cell_type": "code",
   "execution_count": 85,
   "source": [
    "a = ['bishnu','shyam','harish','ten']\r\n",
    "b = [ x for x in a if 's' in x]\r\n",
    "print(b)\r\n",
    "b.insert(1,'trilok') #used insert method to insert 'trilok' in position 1\r\n",
    "print(b)\r\n",
    "a.remove('ten') #used .remove to remove specific obj. from given list'a'\r\n",
    "print(a)\r\n",
    "del a[1]  #used del[] function to delete specific obj from given list but in accordance to index value\r\n",
    "print(a)\r\n",
    "b.pop() #.pop() removes the last item from given list\r\n",
    "print(b)\r\n",
    "c = a.copy() #.copy copies the given list to new var'c'\r\n",
    "print(c)\r\n",
    "d = list(b) #usec list function to induce list to new var 'd'\r\n",
    "print(d)"
   ],
   "outputs": [
    {
     "output_type": "stream",
     "name": "stdout",
     "text": [
      "['bishnu', 'shyam', 'harish']\n",
      "['bishnu', 'trilok', 'shyam', 'harish']\n",
      "['bishnu', 'shyam', 'harish']\n",
      "['bishnu', 'harish']\n",
      "['bishnu', 'trilok', 'shyam']\n",
      "['bishnu', 'harish']\n",
      "['bishnu', 'trilok', 'shyam']\n"
     ]
    }
   ],
   "metadata": {}
  },
  {
   "cell_type": "code",
   "execution_count": 83,
   "source": [
    "a = ['bishnu','shyam','harish','ten']\r\n",
    "b = ['ram','sita']\r\n",
    "a.extend(b) #it extends list'a' to 'b' as a result we get list 'b' in list 'a' itself\r\n",
    "print(a)"
   ],
   "outputs": [
    {
     "output_type": "stream",
     "name": "stdout",
     "text": [
      "['bishnu', 'shyam', 'harish', 'ten', 'ram', 'sita']\n"
     ]
    }
   ],
   "metadata": {}
  },
  {
   "cell_type": "code",
   "execution_count": 46,
   "source": [
    "import random #imported random method using function 'import'\r\n",
    "print(random.randrange(1,9)) #printed any random value between 1 and 9 using random.randrange(1,9)"
   ],
   "outputs": [
    {
     "output_type": "stream",
     "name": "stdout",
     "text": [
      "4\n"
     ]
    }
   ],
   "metadata": {}
  },
  {
   "cell_type": "code",
   "execution_count": 21,
   "source": [
    "a = 'keep clapping for others until your shit matters' #created var'a' containing shit under '',....XD\r\n",
    "b = 'app' in a #declared var to check if 'app' is in var 'a'\r\n",
    "print(b)\r\n",
    "c = 'ther' not in a #returned false coz 'ther' is in var 'a'\r\n",
    "print(c)\r\n",
    "#printed var'b'&'c' to get either true or false"
   ],
   "outputs": [
    {
     "output_type": "stream",
     "name": "stdout",
     "text": [
      "True\n",
      "False\n"
     ]
    }
   ],
   "metadata": {}
  },
  {
   "cell_type": "code",
   "execution_count": 35,
   "source": [
    "a = 18\r\n",
    "b = 'i am to be {}'\r\n",
    "print(b.format(a)) #used format method to insert number to strings"
   ],
   "outputs": [
    {
     "output_type": "stream",
     "name": "stdout",
     "text": [
      "i am to be 18\n"
     ]
    }
   ],
   "metadata": {}
  },
  {
   "cell_type": "code",
   "execution_count": 45,
   "source": [
    "a = 3\r\n",
    "b = 6       #created vars'a,b,c' containing numeric value '3,6,9'\r\n",
    "c = 9\r\n",
    "d = 'he is {0} his brother is {2} their sister is {1}.' #index value of var itself should be considered\r\n",
    "print(d.format(a,b,c)) #used format method to insert int value to strings"
   ],
   "outputs": [
    {
     "output_type": "stream",
     "name": "stdout",
     "text": [
      "he is 3 his brother is 9 their sister is 6.\n"
     ]
    }
   ],
   "metadata": {}
  },
  {
   "cell_type": "code",
   "execution_count": 93,
   "source": [
    "a = {'bishnu','shyam','harish','ten'}\r\n",
    "a.add('lokendra')\r\n",
    "print(a)\r\n",
    "a.update(['bhupendra','chandrey'])\r\n",
    "print(a)"
   ],
   "outputs": [
    {
     "output_type": "stream",
     "name": "stdout",
     "text": [
      "{'lokendra', 'shyam', 'ten', 'bishnu', 'harish'}\n",
      "{'lokendra', 'shyam', 'ten', 'bhupendra', 'chandrey', 'bishnu', 'harish'}\n"
     ]
    }
   ],
   "metadata": {}
  },
  {
   "cell_type": "code",
   "execution_count": 94,
   "source": [
    "x = 31\r\n",
    "if x > 10:\r\n",
    "    print('up')\r\n",
    "    if x > 20:\r\n",
    "        print('still up')\r\n",
    "    else:\r\n",
    "\r\n",
    "        print('lol')"
   ],
   "outputs": [
    {
     "output_type": "stream",
     "name": "stdout",
     "text": [
      "up\n",
      "still up\n"
     ]
    }
   ],
   "metadata": {}
  },
  {
   "cell_type": "code",
   "execution_count": 9,
   "source": [
    "a = 'you know nothing \\\"jon snow\\\".' # \\\"....\\\" is used to make \"double\" valid in so string\r\n",
    "print(a)\r\n",
    "a = 'you know nothing \\'jon snow\\'.' #single' is used instead of \"double\"\r\n",
    "print(a)"
   ],
   "outputs": [
    {
     "output_type": "stream",
     "name": "stdout",
     "text": [
      "you know nothing \"jon snow\".\n",
      "you know nothing 'jon snow'.\n"
     ]
    }
   ],
   "metadata": {}
  },
  {
   "cell_type": "code",
   "execution_count": 13,
   "source": [
    "x = lambda a : a + 10 # lambda function is induced to add the passed number with 10\r\n",
    "print(x(5))\r\n",
    "x = lambda a, b, c : a + b + c #lamda can take and perform with any no.of arguements\r\n",
    "print(x(5,6,7))\r\n",
    "x = lambda a,b,c : a*b*c #same shit multiplied\r\n",
    "print(x(5,6,7))"
   ],
   "outputs": [
    {
     "output_type": "stream",
     "name": "stdout",
     "text": [
      "15\n",
      "18\n",
      "210\n"
     ]
    }
   ],
   "metadata": {}
  },
  {
   "cell_type": "code",
   "execution_count": 16,
   "source": [
    "def myfunction(x): #myfunction(x) is defined at first\r\n",
    "    return lambda a : a * x #return lamda a such that a multiplies x\r\n",
    "dier = myfunction(2) #declared var'dier'which equals myfunction(2)\r\n",
    "trier = myfunction(3) # \"     var'trier'           \" my function(3)\r\n",
    "print(dier(11))\r\n",
    "print(trier(11)) #printed dier(11) and trier(11) to get ouput 22 and 33"
   ],
   "outputs": [
    {
     "output_type": "stream",
     "name": "stdout",
     "text": [
      "22\n",
      "33\n"
     ]
    }
   ],
   "metadata": {}
  },
  {
   "cell_type": "code",
   "execution_count": 40,
   "source": [
    "class Person:\r\n",
    "    def __init__(self, name, age):\r\n",
    "        self.name = name\r\n",
    "        self.age = age\r\n",
    "\r\n",
    "p1 = Person('AR', '10')\r\n",
    "\r\n",
    "print(p1.name)\r\n",
    "print(p1.age)"
   ],
   "outputs": [
    {
     "output_type": "stream",
     "name": "stdout",
     "text": [
      "AR\n",
      "10\n"
     ]
    }
   ],
   "metadata": {}
  },
  {
   "cell_type": "code",
   "execution_count": 40,
   "source": [
    "a = [2,9,6]\r\n",
    "iterator = iter(a)\r\n",
    "print(next(iterator))\r\n",
    "print(next(iterator))\r\n",
    "print(next(iterator))\r\n",
    "\r\n",
    "b = 'lm10'\r\n",
    "x = iter(b)\r\n",
    "print(next(x))\r\n",
    "print(next(x))\r\n",
    "print(next(x))\r\n",
    "print(next(x))"
   ],
   "outputs": [
    {
     "output_type": "stream",
     "name": "stdout",
     "text": [
      "2\n",
      "9\n",
      "6\n",
      "l\n",
      "m\n",
      "1\n",
      "0\n"
     ]
    }
   ],
   "metadata": {}
  },
  {
   "cell_type": "code",
   "execution_count": 41,
   "source": [
    "class mynum:\r\n",
    "    def __iter__(self):\r\n",
    "        self.a = 1\r\n",
    "        return self\r\n",
    "    def __next__(self):\r\n",
    "        x = self.a\r\n",
    "        self.a += 1\r\n",
    "        return x\r\n",
    "myclass = mynum()\r\n",
    "myiter = iter(myclass)\r\n",
    "\r\n",
    "print(next(myiter))\r\n",
    "print(next(myiter))\r\n",
    "print(next(myiter))\r\n",
    "print(next(myiter))\r\n",
    "print(next(myiter))"
   ],
   "outputs": [
    {
     "output_type": "stream",
     "name": "stdout",
     "text": [
      "1\n",
      "2\n",
      "3\n",
      "4\n",
      "5\n"
     ]
    }
   ],
   "metadata": {}
  },
  {
   "cell_type": "code",
   "execution_count": 53,
   "source": [
    "x = 100 #it is outside defined function and is global variable\r\n",
    "def function():\r\n",
    "    global x #induce global function to modify value of x even inside a function\r\n",
    "    x = 200\r\n",
    "    global y #induce global to declare var y as global var even inside a function\r\n",
    "    y = 300\r\n",
    "function()\r\n",
    "print(x)\r\n",
    "print(y)"
   ],
   "outputs": [
    {
     "output_type": "stream",
     "name": "stdout",
     "text": [
      "200\n",
      "300\n"
     ]
    }
   ],
   "metadata": {}
  },
  {
   "cell_type": "code",
   "execution_count": 66,
   "source": [
    "import platform #imported bult-in module 'platform'\r\n",
    "x = platform.system()\r\n",
    "print(x)\r\n",
    "import datetime #imported built-in module 'datetime'\r\n",
    "x = datetime.datetime.now()\r\n",
    "print(x)\r\n",
    "print(x.year)\r\n",
    "print(x.strftime('%a')) # '%a' gives short version(tue) of tuesday('%A')\r\n",
    "print(x.strftime('%B'))\r\n",
    "print(x.strftime('%C'))\r\n",
    "print(x.strftime('%D'))"
   ],
   "outputs": [
    {
     "output_type": "stream",
     "name": "stdout",
     "text": [
      "Windows\n",
      "2021-07-20 19:34:49.002807\n",
      "2021\n",
      "Tue\n",
      "July\n",
      "20\n",
      "07/20/21\n"
     ]
    }
   ],
   "metadata": {}
  },
  {
   "cell_type": "code",
   "execution_count": 3,
   "source": [
    "try:\r\n",
    "    print('x') #it is correct\r\n",
    "except:\r\n",
    "    print('exception occured') #as above sts.is correct there is no exception\r\n",
    "else:\r\n",
    "    print('alright then') #hence, try block is correct without exception, else is used to print specific msg"
   ],
   "outputs": [
    {
     "output_type": "stream",
     "name": "stdout",
     "text": [
      "x\n",
      "alright then\n"
     ]
    }
   ],
   "metadata": {}
  },
  {
   "cell_type": "code",
   "execution_count": 20,
   "source": [
    "x = [3,4,5,]\r\n",
    "y = [3,4,5]\r\n",
    "print(x)\r\n",
    "z = x\r\n",
    "print(x is not z) #false coz z and x are same object\r\n",
    "print(x is not y) #true coz x and y are two diff. vars even though they have same values\r\n",
    "print(x != y) #false because x is equal to y coz they have same values\r\n"
   ],
   "outputs": [
    {
     "output_type": "stream",
     "name": "stdout",
     "text": [
      "[3, 4, 5]\n",
      "False\n",
      "True\n",
      "False\n"
     ]
    }
   ],
   "metadata": {}
  },
  {
   "cell_type": "code",
   "execution_count": 38,
   "source": [
    "x = [3,4,5,9]\r\n",
    "b = x.count(3) #counted how many 3 are in given list\r\n",
    "print(b)\r\n",
    "y = [6,7,8]\r\n",
    "x.extend(y) #extended list x to y\r\n",
    "print(x)\r\n",
    "c = x.index(4) #gives the index of int 4 in given list\r\n",
    "print(c)\r\n",
    "x.sort() #sorted the list in ascending order\r\n",
    "print(x)\r\n",
    "x.reverse() #reversed the list\r\n",
    "print(x)"
   ],
   "outputs": [
    {
     "output_type": "stream",
     "name": "stdout",
     "text": [
      "1\n",
      "[3, 4, 5, 9, 6, 7, 8]\n",
      "1\n",
      "[3, 4, 5, 6, 7, 8, 9]\n",
      "[9, 8, 7, 6, 5, 4, 3]\n"
     ]
    }
   ],
   "metadata": {}
  },
  {
   "cell_type": "code",
   "execution_count": 42,
   "source": [
    "class AR10:\r\n",
    "    pass\r\n",
    "ar = AR10()\r\n",
    "ra = AR10()\r\n",
    "\r\n",
    "ar.haha = 'XD'\r\n",
    "ra.haha = 'lol'\r\n",
    "\r\n",
    "print(ar.haha,ra.haha)"
   ],
   "outputs": [
    {
     "output_type": "stream",
     "name": "stdout",
     "text": [
      "XD lol\n"
     ]
    }
   ],
   "metadata": {}
  },
  {
   "cell_type": "code",
   "execution_count": 1,
   "source": [
    "n = 'ar10'\r\n",
    "h = 5.5\r\n",
    "w = 48\r\n",
    "\r\n",
    "bmi = w/h\r\n",
    "print(bmi)\r\n",
    "if bmi < 10:\r\n",
    "    print('weightfool')\r\n",
    "elif bmi > 7:\r\n",
    "    print('alright')\r\n",
    "else:\r\n",
    "    print('weightfull')"
   ],
   "outputs": [
    {
     "output_type": "stream",
     "name": "stdout",
     "text": [
      "8.727272727272727\n",
      "weightfool\n"
     ]
    }
   ],
   "metadata": {}
  },
  {
   "cell_type": "code",
   "execution_count": 2,
   "source": [
    "a = int(input('any number:'))\r\n",
    "r = a%2\r\n",
    "if r == 0:\r\n",
    "    print(a,'it is divisible by 2')\r\n",
    "else:\r\n",
    "    print(a,'it is not divisible by 2')\r\n",
    "print(r)"
   ],
   "outputs": [
    {
     "output_type": "stream",
     "name": "stdout",
     "text": [
      "any number:7\n",
      "7 it is not divisible by 2\n",
      "1\n"
     ]
    }
   ],
   "metadata": {}
  },
  {
   "cell_type": "code",
   "execution_count": 3,
   "source": [
    "x,y = 2,3\r\n",
    "print(x+y)"
   ],
   "outputs": [
    {
     "output_type": "stream",
     "name": "stdout",
     "text": [
      "5\n"
     ]
    }
   ],
   "metadata": {}
  },
  {
   "cell_type": "code",
   "execution_count": null,
   "source": [],
   "outputs": [],
   "metadata": {}
  }
 ],
 "metadata": {
  "kernelspec": {
   "display_name": "Python 3",
   "language": "python",
   "name": "python3"
  },
  "language_info": {
   "codemirror_mode": {
    "name": "ipython",
    "version": 3
   },
   "file_extension": ".py",
   "mimetype": "text/x-python",
   "name": "python",
   "nbconvert_exporter": "python",
   "pygments_lexer": "ipython3",
   "version": "3.8.8"
  }
 },
 "nbformat": 4,
 "nbformat_minor": 5
}