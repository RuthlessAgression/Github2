{
 "cells": [
  {
   "cell_type": "code",
   "execution_count": 11,
   "id": "65b1de4f",
   "metadata": {},
   "outputs": [
    {
     "name": "stdout",
     "output_type": "stream",
     "text": [
      "6\n"
     ]
    }
   ],
   "source": [
    "x,y = 2,3\n",
    "print(x*y)"
   ]
  },
  {
   "cell_type": "code",
   "execution_count": null,
   "id": "f0e423d3",
   "metadata": {},
   "outputs": [],
   "source": [
    "ctrl + sqr.bracket #ctrl + shift +minus to split cell afterward cursor or pointer"
   ]
  },
  {
   "cell_type": "code",
   "execution_count": null,
   "id": "3ff302e1",
   "metadata": {},
   "outputs": [],
   "source": [
    "to auto indentent #ctrl + u to unselect the selected txt"
   ]
  },
  {
   "cell_type": "code",
   "execution_count": 10,
   "id": "3c4ce231",
   "metadata": {},
   "outputs": [
    {
     "name": "stdout",
     "output_type": "stream",
     "text": [
      "you know nothing \"jon snow\".\n",
      "you know nothing 'jon snow'.\n"
     ]
    }
   ],
   "source": [
    "a = 'you know nothing \\\"jon snow\\\".' # \\\"....\\\" is used to make \"double\" valid in so string\n",
    "print(a)\n",
    "a = 'you know nothing \\'jon snow\\'.' #single' is used instead of \"double\"\n",
    "print(a)\n",
    "# notes: ctrl+shift+v to paste cut cells\n",
    "#ctrl+c to copy a line where pointer is located\n",
    "# ctrl + sqr.bracket to auto indentent\n",
    "### ctrl + right/ left/ backspace/ delete/ y/ d to go one word right/ left/ to delete one word before/ after/ redo/ delete whole line\n",
    "#windows + right key to double screen\n",
    "#alt + tab to switch between apps"
   ]
  },
  {
   "cell_type": "code",
   "execution_count": 14,
   "id": "f9ecc383",
   "metadata": {},
   "outputs": [],
   "source": [
    "'''ctrl + right/ left/ backspace/ delete/ y/ d to go one word right/ left/ to delete one word before/ after/ redo/ delete \n",
    "whole line''' #multiline string"
   ]
  }
 ],
 "metadata": {
  "kernelspec": {
   "display_name": "Python 3",
   "language": "python",
   "name": "python3"
  },
  "language_info": {
   "codemirror_mode": {
    "name": "ipython",
    "version": 3
   },
   "file_extension": ".py",
   "mimetype": "text/x-python",
   "name": "python",
   "nbconvert_exporter": "python",
   "pygments_lexer": "ipython3",
   "version": "3.8.8"
  }
 },
 "nbformat": 4,
 "nbformat_minor": 5
}
