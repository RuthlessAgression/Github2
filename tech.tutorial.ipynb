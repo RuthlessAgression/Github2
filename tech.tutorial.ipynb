{
 "cells": [
  {
   "cell_type": "code",
   "execution_count": 9,
   "id": "f259cf59",
   "metadata": {},
   "outputs": [
    {
     "name": "stdout",
     "output_type": "stream",
     "text": [
      "[9, 10, 11, 20, 30]\n"
     ]
    }
   ],
   "source": [
    "#list with sq.bra[]\n",
    "a = [10,30,20,11,9]\n",
    "a.sort() #sorts in ascending order\n",
    "print(a)"
   ]
  },
  {
   "cell_type": "code",
   "execution_count": 10,
   "id": "fb4d7f25",
   "metadata": {},
   "outputs": [
    {
     "name": "stdout",
     "output_type": "stream",
     "text": [
      "{11, 12, 30}\n"
     ]
    }
   ],
   "source": [
    "#set contains unique element as it discards repeated no.\n",
    "s = {12,30,11,12}\n",
    "print(s)"
   ]
  },
  {
   "cell_type": "code",
   "execution_count": 10,
   "id": "3ec74f39",
   "metadata": {},
   "outputs": [
    {
     "name": "stdout",
     "output_type": "stream",
     "text": [
      "enter number:2\n",
      "enter number:5\n",
      "enter number:3\n",
      "fun\n"
     ]
    }
   ],
   "source": [
    "a = int(input('enter number:'))\n",
    "b = int(input('enter number:'))\n",
    "c = int(input('enter number:'))\n",
    "\n",
    "if a<c and a>b:\n",
    "    print('it is true')\n",
    "elif a<c:\n",
    "    print('fun')\n",
    "else:\n",
    "    print('it is false')"
   ]
  },
  {
   "cell_type": "code",
   "execution_count": 24,
   "id": "e6886b3e",
   "metadata": {},
   "outputs": [
    {
     "name": "stdout",
     "output_type": "stream",
     "text": [
      "0b1010\n"
     ]
    }
   ],
   "source": [
    "#conversion\n",
    "a = 10\n",
    "print(bin(a))"
   ]
  },
  {
   "cell_type": "code",
   "execution_count": 36,
   "id": "1cab4474",
   "metadata": {},
   "outputs": [
    {
     "name": "stdout",
     "output_type": "stream",
     "text": [
      "10\n"
     ]
    }
   ],
   "source": [
    "#import math for floor,cell,et.c\n",
    "import math\n",
    "a = 9.1\n",
    "print(math.ceil(a))"
   ]
  },
  {
   "cell_type": "code",
   "execution_count": 2,
   "id": "b908fbe8",
   "metadata": {},
   "outputs": [
    {
     "name": "stdout",
     "output_type": "stream",
     "text": [
      "hello\n",
      "hello\n",
      "hello\n",
      "hello\n",
      "hello\n"
     ]
    }
   ],
   "source": [
    "for i in range(5): #for loop to regulate specific item in loop\n",
    "    print(\"hello\")"
   ]
  },
  {
   "cell_type": "code",
   "execution_count": 8,
   "id": "34e55edd",
   "metadata": {},
   "outputs": [
    {
     "name": "stdout",
     "output_type": "stream",
     "text": [
      "0\n",
      "1\n",
      "2\n"
     ]
    }
   ],
   "source": [
    "i = 0\n",
    "while i<6:\n",
    "    print(i)\n",
    "    i += 1 # 'i += 1' = \"i = i + 1\"\n",
    "    if i == 3:\n",
    "        break #it breaks the loop after reaching certain value'3'"
   ]
  },
  {
   "cell_type": "code",
   "execution_count": null,
   "id": "85933fa2",
   "metadata": {},
   "outputs": [],
   "source": []
  }
 ],
 "metadata": {
  "kernelspec": {
   "display_name": "Python 3",
   "language": "python",
   "name": "python3"
  },
  "language_info": {
   "codemirror_mode": {
    "name": "ipython",
    "version": 3
   },
   "file_extension": ".py",
   "mimetype": "text/x-python",
   "name": "python",
   "nbconvert_exporter": "python",
   "pygments_lexer": "ipython3",
   "version": "3.8.8"
  }
 },
 "nbformat": 4,
 "nbformat_minor": 5
}
