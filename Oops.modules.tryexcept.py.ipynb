{
 "cells": [
  {
   "cell_type": "code",
   "execution_count": 11,
   "source": [
    "class std: #introduced std as a class\r\n",
    "    no_of_stds = 50\r\n",
    "    pass #induced pass function to avoid error\r\n",
    "\r\n",
    "AR = std() #referred it to class std()\r\n",
    "ar = std() #referred it to class std()\r\n",
    "\r\n",
    "R.name = 'AR10' #declaration of variable with str.value\r\n",
    "ar.name = 'ar10' #declaration of variable with str.value\r\n",
    "AR.favseries = ['Dark','GOT','MoneyHiest'] #declaration of variable to new list\r\n",
    "\r\n",
    "print(AR.favseries, ar.name) #printed to get required object and value\r\n",
    "print(std.no_of_stds)\r\n",
    "print(ar.no_of_stds) #accessed no.of stds through object ar\r\n",
    "\r\n",
    "print(AR.no_of_stds) #same shit thorugh AR\r\n",
    "print(AR.__dict__) #printed AR as a dictionary"
   ],
   "outputs": [
    {
     "output_type": "stream",
     "name": "stdout",
     "text": [
      "['Dark', 'GOT', 'MoneyHiest'] ar10\n",
      "50\n",
      "50\n",
      "50\n",
      "{'name': 'AR10', 'favseries': ['Dark', 'GOT', 'MoneyHiest']}\n"
     ]
    }
   ],
   "metadata": {}
  },
  {
   "cell_type": "code",
   "execution_count": 14,
   "source": [
    "try:\r\n",
    "    a = int(input()) #tried a block of code\r\n",
    "except ValueError: #value error is pre-declared\r\n",
    "    print('invalid syn') #printed as syntax is invalid coz we gave str instead of int "
   ],
   "outputs": [
    {
     "output_type": "stream",
     "name": "stdout",
     "text": [
      "b\n",
      "invalid syn\n"
     ]
    }
   ],
   "metadata": {}
  },
  {
   "cell_type": "code",
   "execution_count": 24,
   "source": [
    "b = open('OddEven.ipynb', 'r')\r\n",
    "#print(b.readlines()) #takes too much space, bothers while down scroll\r\n",
    "b.close()"
   ],
   "outputs": [],
   "metadata": {}
  },
  {
   "cell_type": "code",
   "execution_count": 6,
   "source": [
    "class Student:\r\n",
    "    \r\n",
    "    def __init__(self,name,num):\r\n",
    "        self.name = name\r\n",
    "        self.num = num\r\n",
    "        self.email = name + str(num) + '@gmail.com'\r\n",
    "std1 = Student('AR',10)\r\n",
    "std2 = Student('RA',8)\r\n",
    "print(std1.name,std2.num)\r\n",
    "print(std1.email)\r\n",
    "print('{}{}'.format(std1.name, std2.num))"
   ],
   "outputs": [
    {
     "output_type": "stream",
     "name": "stdout",
     "text": [
      "AR 8\n",
      "AR10@gmail.com\n",
      "AR8\n"
     ]
    }
   ],
   "metadata": {}
  },
  {
   "cell_type": "code",
   "execution_count": 55,
   "source": [
    "class Student: #Student class is created\r\n",
    "    \r\n",
    "    def __init__(self,name,num): #initialize instance object as self with attributes such as name,num\r\n",
    "        self.name = name\r\n",
    "        self.num = num\r\n",
    "        self.email = name + str(num) + '@gmail.com'\r\n",
    "    def full_name(self): #self is instance of both objects 'stfd1'&'std2'\r\n",
    "        #return std1.name + str(std2.num) # BTW, it also works\r\n",
    "        return f'he is {std1.name} and num is {std2.num}'\r\n",
    "std1 = Student('AR',10) #given attributes values to objects\r\n",
    "std2 = Student('RA',8) #same shit\r\n",
    "print(std1.email) #printed attribute email with object std1\r\n",
    "Student.full_name(std2) #called function through class'Student' mentioning any of the objects\r\n",
    "std1.full_name() #called function directly through object"
   ],
   "outputs": [
    {
     "output_type": "stream",
     "name": "stdout",
     "text": [
      "AR10@gmail.com\n"
     ]
    },
    {
     "output_type": "execute_result",
     "data": {
      "text/plain": [
       "'he is AR and num is 8'"
      ]
     },
     "metadata": {},
     "execution_count": 55
    }
   ],
   "metadata": {}
  },
  {
   "cell_type": "code",
   "execution_count": null,
   "source": [
    "a = [10,20,30,40,50]\r\n",
    "for index,x in enumerate(a):\r\n",
    "    if x == 40:\r\n",
    "        print('found at index',index)\r\n",
    "    else:\r\n",
    "        continue\r\n",
    "else:\r\n",
    "    print('done now')"
   ],
   "outputs": [],
   "metadata": {}
  },
  {
   "cell_type": "code",
   "execution_count": null,
   "source": [],
   "outputs": [],
   "metadata": {}
  }
 ],
 "metadata": {
  "kernelspec": {
   "display_name": "Python 3",
   "language": "python",
   "name": "python3"
  },
  "language_info": {
   "codemirror_mode": {
    "name": "ipython",
    "version": 3
   },
   "file_extension": ".py",
   "mimetype": "text/x-python",
   "name": "python",
   "nbconvert_exporter": "python",
   "pygments_lexer": "ipython3",
   "version": "3.8.8"
  }
 },
 "nbformat": 4,
 "nbformat_minor": 5
}